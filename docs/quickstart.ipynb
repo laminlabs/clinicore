{
 "cells": [
  {
   "cell_type": "markdown",
   "id": "7f26a335-cf1c-4e69-be3b-0c26b154606a",
   "metadata": {},
   "source": [
    "# Quickstart"
   ]
  },
  {
   "cell_type": "code",
   "execution_count": null,
   "id": "f37ebcaa",
   "metadata": {},
   "outputs": [],
   "source": [
    "!lamin init --storage ./test-clinicore --schema bionty,clinicore"
   ]
  },
  {
   "cell_type": "code",
   "execution_count": null,
   "id": "a51faaf3-ee27-43c6-b48d-13be1adb5c46",
   "metadata": {},
   "outputs": [],
   "source": [
    "import clinicore as cl"
   ]
  },
  {
   "cell_type": "code",
   "execution_count": null,
   "id": "a1e61ead",
   "metadata": {},
   "outputs": [],
   "source": [
    "cl.Project"
   ]
  },
  {
   "cell_type": "code",
   "execution_count": null,
   "id": "c71693bf",
   "metadata": {},
   "outputs": [],
   "source": []
  }
 ],
 "metadata": {
  "kernelspec": {
   "display_name": "Python 3 (ipykernel)",
   "language": "python",
   "name": "python3"
  },
  "language_info": {
   "codemirror_mode": {
    "name": "ipython",
    "version": 3
   },
   "file_extension": ".py",
   "mimetype": "text/x-python",
   "name": "python",
   "nbconvert_exporter": "python",
   "pygments_lexer": "ipython3",
   "version": "3.10.13"
  }
 },
 "nbformat": 4,
 "nbformat_minor": 5
}
