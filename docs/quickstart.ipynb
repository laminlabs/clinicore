{
 "cells": [
  {
   "cell_type": "markdown",
   "id": "7f26a335-cf1c-4e69-be3b-0c26b154606a",
   "metadata": {},
   "source": [
    "# Quickstart"
   ]
  },
  {
   "cell_type": "code",
   "execution_count": null,
   "id": "f37ebcaa",
   "metadata": {},
   "outputs": [],
   "source": [
    "!lamin init --storage ./test-clinicore --schema bionty,clinicore"
   ]
  },
  {
   "cell_type": "code",
   "execution_count": null,
   "id": "a51faaf3-ee27-43c6-b48d-13be1adb5c46",
   "metadata": {},
   "outputs": [],
   "source": [
    "import clinicore as cl"
   ]
  },
  {
   "cell_type": "code",
   "execution_count": null,
   "id": "a1e61ead",
   "metadata": {},
   "outputs": [],
   "source": [
    "cl.ClinicalTrial"
   ]
  },
  {
   "cell_type": "code",
   "execution_count": null,
   "id": "c71693bf",
   "metadata": {},
   "outputs": [],
   "source": [
    "clinical_trail = cl.ClinicalTrial(name=\"NCT00000000\", title=\"This is a test clinical trial\").save()"
   ]
  },
  {
   "cell_type": "code",
   "execution_count": null,
   "id": "5d3f489d",
   "metadata": {},
   "outputs": [],
   "source": [
    "clinical_trail"
   ]
  },
  {
   "cell_type": "code",
   "execution_count": null,
   "id": "7f19edc5",
   "metadata": {},
   "outputs": [],
   "source": [
    "import bionty as bt\n",
    "\n",
    "medication_source = bt.Source.get(name=\"chebi\")\n",
    "cl.Medication.add_source(medication_source)"
   ]
  },
  {
   "cell_type": "code",
   "execution_count": null,
   "id": "47078824",
   "metadata": {},
   "outputs": [],
   "source": [
    "medication = cl.Medication.from_source(name=\"Vismione D\").save()"
   ]
  },
  {
   "cell_type": "code",
   "execution_count": null,
   "id": "81d079b6",
   "metadata": {},
   "outputs": [],
   "source": [
    "medication"
   ]
  }
 ],
 "metadata": {
  "kernelspec": {
   "display_name": "Python 3 (ipykernel)",
   "language": "python",
   "name": "python3"
  },
  "language_info": {
   "codemirror_mode": {
    "name": "ipython",
    "version": 3
   },
   "file_extension": ".py",
   "mimetype": "text/x-python",
   "name": "python",
   "nbconvert_exporter": "python",
   "pygments_lexer": "ipython3",
   "version": "3.10.13"
  }
 },
 "nbformat": 4,
 "nbformat_minor": 5
}
